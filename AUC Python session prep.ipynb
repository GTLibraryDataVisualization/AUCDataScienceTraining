{
 "cells": [
  {
   "cell_type": "markdown",
   "metadata": {},
   "source": [
    "## Python session prep instruction\n",
    "\n",
    "### Python and interface\n",
    "\n",
    "This is the document to run to get ready for the Python session. For our Python workshop, we will be using Python 3 (any version of 3 should be fine, such as 3.7 or 3.8).\n",
    "To download Python, go to: https://www.python.org/downloads/\n",
    "\n",
    "We will also need Jupyter Notebook. To install it:\n",
    "\n",
    "1. Windows: bring up your Command Prompt, enter \n",
    "           \n",
    "        pip install notebook\n",
    "2. Mac: bring up your Terminal, enter \n",
    "        \n",
    "        pip install notebook\n",
    "        \n",
    "It should run some scripts and tell you that you have successfully installed Jupyter Notebook."
   ]
  },
  {
   "cell_type": "markdown",
   "metadata": {},
   "source": [
    "### Libraries\n",
    "\n",
    "For this session, we also need to use three libraries:\n",
    "    Pandas, Plotly and Chart_studio\n",
    "    \n",
    "The three cells below start with an \"!\" helps you install these libraries. Go up on top and hit the Run botton to run them one by one.\n",
    "\n",
    "After you run all these three cells, go down to the fourth cell and hit Run button again to run these import statements. There should be nothing coming out of it. "
   ]
  },
  {
   "cell_type": "code",
   "execution_count": null,
   "metadata": {},
   "outputs": [],
   "source": [
    "!pip install pandas"
   ]
  },
  {
   "cell_type": "code",
   "execution_count": null,
   "metadata": {},
   "outputs": [],
   "source": [
    "!pip install plotly"
   ]
  },
  {
   "cell_type": "code",
   "execution_count": null,
   "metadata": {},
   "outputs": [],
   "source": [
    "!pip install chart-studio"
   ]
  },
  {
   "cell_type": "code",
   "execution_count": null,
   "metadata": {},
   "outputs": [],
   "source": [
    "import pandas as pd\n",
    "import plotly.graph_objects as go\n",
    "import chart_studio\n",
    "from chart_studio import plotly as py"
   ]
  },
  {
   "cell_type": "code",
   "execution_count": null,
   "metadata": {},
   "outputs": [],
   "source": []
  }
 ],
 "metadata": {
  "kernelspec": {
   "display_name": "Python 3",
   "language": "python",
   "name": "python3"
  },
  "language_info": {
   "codemirror_mode": {
    "name": "ipython",
    "version": 3
   },
   "file_extension": ".py",
   "mimetype": "text/x-python",
   "name": "python",
   "nbconvert_exporter": "python",
   "pygments_lexer": "ipython3",
   "version": "3.7.6"
  }
 },
 "nbformat": 4,
 "nbformat_minor": 4
}
